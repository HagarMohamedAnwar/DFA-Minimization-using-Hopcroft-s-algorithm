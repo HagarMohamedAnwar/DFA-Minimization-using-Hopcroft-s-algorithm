{
 "cells": [
  {
   "cell_type": "code",
   "execution_count": 8,
   "id": "8c46f054-9458-4d9b-8fcb-d89c589bff24",
   "metadata": {
    "tags": []
   },
   "outputs": [],
   "source": [
    "import copy\n",
    "import pygraphviz as pgv\n",
    "import os"
   ]
  },
  {
   "cell_type": "code",
   "execution_count": 9,
   "id": "7639cf1f-d3c6-4b4c-8df0-206e466722f9",
   "metadata": {
    "tags": []
   },
   "outputs": [
    {
     "name": "stdout",
     "output_type": "stream",
     "text": [
      "Enter the state values:\n"
     ]
    },
    {
     "name": "stdin",
     "output_type": "stream",
     "text": [
      " s0 s1 s2 s3 s4 s5 s6 s7 s8 s9 se\n"
     ]
    },
    {
     "name": "stdout",
     "output_type": "stream",
     "text": [
      "Enter the alphabets/numbers:\n"
     ]
    },
    {
     "name": "stdin",
     "output_type": "stream",
     "text": [
      " t h e r\n",
      "\n",
      "Enter initial state:  s0\n",
      "\n",
      "Enter final state(s):   s5 s9\n"
     ]
    },
    {
     "name": "stdout",
     "output_type": "stream",
     "text": [
      "\n",
      "Enter transitions:\n",
      "\n",
      "\n",
      "s0 on t -> "
     ]
    },
    {
     "name": "stdin",
     "output_type": "stream",
     "text": [
      " t\n"
     ]
    },
    {
     "name": "stdout",
     "output_type": "stream",
     "text": [
      "Enter valid state:\n"
     ]
    },
    {
     "name": "stdin",
     "output_type": "stream",
     "text": [
      " h\n"
     ]
    },
    {
     "name": "stdout",
     "output_type": "stream",
     "text": [
      "Enter valid state:\n"
     ]
    },
    {
     "name": "stdin",
     "output_type": "stream",
     "text": [
      " s1\n"
     ]
    },
    {
     "name": "stdout",
     "output_type": "stream",
     "text": [
      "\n",
      "s0 on h -> "
     ]
    },
    {
     "name": "stdin",
     "output_type": "stream",
     "text": [
      " s6\n"
     ]
    },
    {
     "name": "stdout",
     "output_type": "stream",
     "text": [
      "\n",
      "s0 on e -> "
     ]
    },
    {
     "name": "stdin",
     "output_type": "stream",
     "text": [
      " se\n"
     ]
    },
    {
     "name": "stdout",
     "output_type": "stream",
     "text": [
      "\n",
      "s0 on r -> "
     ]
    },
    {
     "name": "stdin",
     "output_type": "stream",
     "text": [
      " se\n"
     ]
    },
    {
     "name": "stdout",
     "output_type": "stream",
     "text": [
      "\n",
      "s1 on t -> "
     ]
    },
    {
     "name": "stdin",
     "output_type": "stream",
     "text": [
      " se\n"
     ]
    },
    {
     "name": "stdout",
     "output_type": "stream",
     "text": [
      "\n",
      "s1 on h -> "
     ]
    },
    {
     "name": "stdin",
     "output_type": "stream",
     "text": [
      " s2\n"
     ]
    },
    {
     "name": "stdout",
     "output_type": "stream",
     "text": [
      "\n",
      "s1 on e -> "
     ]
    },
    {
     "name": "stdin",
     "output_type": "stream",
     "text": [
      " se\n"
     ]
    },
    {
     "name": "stdout",
     "output_type": "stream",
     "text": [
      "\n",
      "s1 on r -> "
     ]
    },
    {
     "name": "stdin",
     "output_type": "stream",
     "text": [
      " se\n"
     ]
    },
    {
     "name": "stdout",
     "output_type": "stream",
     "text": [
      "\n",
      "s2 on t -> "
     ]
    },
    {
     "name": "stdin",
     "output_type": "stream",
     "text": [
      " se\n"
     ]
    },
    {
     "name": "stdout",
     "output_type": "stream",
     "text": [
      "\n",
      "s2 on h -> "
     ]
    },
    {
     "name": "stdin",
     "output_type": "stream",
     "text": [
      " se\n"
     ]
    },
    {
     "name": "stdout",
     "output_type": "stream",
     "text": [
      "\n",
      "s2 on e -> "
     ]
    },
    {
     "name": "stdin",
     "output_type": "stream",
     "text": [
      " s3\n"
     ]
    },
    {
     "name": "stdout",
     "output_type": "stream",
     "text": [
      "\n",
      "s2 on r -> "
     ]
    },
    {
     "name": "stdin",
     "output_type": "stream",
     "text": [
      " se\n"
     ]
    },
    {
     "name": "stdout",
     "output_type": "stream",
     "text": [
      "\n",
      "s3 on t -> "
     ]
    },
    {
     "name": "stdin",
     "output_type": "stream",
     "text": [
      " se\n"
     ]
    },
    {
     "name": "stdout",
     "output_type": "stream",
     "text": [
      "\n",
      "s3 on h -> "
     ]
    },
    {
     "name": "stdin",
     "output_type": "stream",
     "text": [
      " se\n"
     ]
    },
    {
     "name": "stdout",
     "output_type": "stream",
     "text": [
      "\n",
      "s3 on e -> "
     ]
    },
    {
     "name": "stdin",
     "output_type": "stream",
     "text": [
      " se\n"
     ]
    },
    {
     "name": "stdout",
     "output_type": "stream",
     "text": [
      "\n",
      "s3 on r -> "
     ]
    },
    {
     "name": "stdin",
     "output_type": "stream",
     "text": [
      " s4\n"
     ]
    },
    {
     "name": "stdout",
     "output_type": "stream",
     "text": [
      "\n",
      "s4 on t -> "
     ]
    },
    {
     "name": "stdin",
     "output_type": "stream",
     "text": [
      " se\n"
     ]
    },
    {
     "name": "stdout",
     "output_type": "stream",
     "text": [
      "\n",
      "s4 on h -> "
     ]
    },
    {
     "name": "stdin",
     "output_type": "stream",
     "text": [
      " se\n"
     ]
    },
    {
     "name": "stdout",
     "output_type": "stream",
     "text": [
      "\n",
      "s4 on e -> "
     ]
    },
    {
     "name": "stdin",
     "output_type": "stream",
     "text": [
      " s5\n"
     ]
    },
    {
     "name": "stdout",
     "output_type": "stream",
     "text": [
      "\n",
      "s4 on r -> "
     ]
    },
    {
     "name": "stdin",
     "output_type": "stream",
     "text": [
      " se\n"
     ]
    },
    {
     "name": "stdout",
     "output_type": "stream",
     "text": [
      "\n",
      "s5 on t -> "
     ]
    },
    {
     "name": "stdin",
     "output_type": "stream",
     "text": [
      " se\n"
     ]
    },
    {
     "name": "stdout",
     "output_type": "stream",
     "text": [
      "\n",
      "s5 on h -> "
     ]
    },
    {
     "name": "stdin",
     "output_type": "stream",
     "text": [
      " se\n"
     ]
    },
    {
     "name": "stdout",
     "output_type": "stream",
     "text": [
      "\n",
      "s5 on e -> "
     ]
    },
    {
     "name": "stdin",
     "output_type": "stream",
     "text": [
      " se\n"
     ]
    },
    {
     "name": "stdout",
     "output_type": "stream",
     "text": [
      "\n",
      "s5 on r -> "
     ]
    },
    {
     "name": "stdin",
     "output_type": "stream",
     "text": [
      " se\n"
     ]
    },
    {
     "name": "stdout",
     "output_type": "stream",
     "text": [
      "\n",
      "s6 on t -> "
     ]
    },
    {
     "name": "stdin",
     "output_type": "stream",
     "text": [
      " se\n"
     ]
    },
    {
     "name": "stdout",
     "output_type": "stream",
     "text": [
      "\n",
      "s6 on h -> "
     ]
    },
    {
     "name": "stdin",
     "output_type": "stream",
     "text": [
      " se\n"
     ]
    },
    {
     "name": "stdout",
     "output_type": "stream",
     "text": [
      "\n",
      "s6 on e -> "
     ]
    },
    {
     "name": "stdin",
     "output_type": "stream",
     "text": [
      " s7\n"
     ]
    },
    {
     "name": "stdout",
     "output_type": "stream",
     "text": [
      "\n",
      "s6 on r -> "
     ]
    },
    {
     "name": "stdin",
     "output_type": "stream",
     "text": [
      " se\n"
     ]
    },
    {
     "name": "stdout",
     "output_type": "stream",
     "text": [
      "\n",
      "s7 on t -> "
     ]
    },
    {
     "name": "stdin",
     "output_type": "stream",
     "text": [
      " se\n"
     ]
    },
    {
     "name": "stdout",
     "output_type": "stream",
     "text": [
      "\n",
      "s7 on h -> "
     ]
    },
    {
     "name": "stdin",
     "output_type": "stream",
     "text": [
      " se\n"
     ]
    },
    {
     "name": "stdout",
     "output_type": "stream",
     "text": [
      "\n",
      "s7 on e -> "
     ]
    },
    {
     "name": "stdin",
     "output_type": "stream",
     "text": [
      " se\n"
     ]
    },
    {
     "name": "stdout",
     "output_type": "stream",
     "text": [
      "\n",
      "s7 on r -> "
     ]
    },
    {
     "name": "stdin",
     "output_type": "stream",
     "text": [
      " s8\n"
     ]
    },
    {
     "name": "stdout",
     "output_type": "stream",
     "text": [
      "\n",
      "s8 on t -> "
     ]
    },
    {
     "name": "stdin",
     "output_type": "stream",
     "text": [
      " se\n"
     ]
    },
    {
     "name": "stdout",
     "output_type": "stream",
     "text": [
      "\n",
      "s8 on h -> "
     ]
    },
    {
     "name": "stdin",
     "output_type": "stream",
     "text": [
      " se\n"
     ]
    },
    {
     "name": "stdout",
     "output_type": "stream",
     "text": [
      "\n",
      "s8 on e -> "
     ]
    },
    {
     "name": "stdin",
     "output_type": "stream",
     "text": [
      " s9\n"
     ]
    },
    {
     "name": "stdout",
     "output_type": "stream",
     "text": [
      "\n",
      "s8 on r -> "
     ]
    },
    {
     "name": "stdin",
     "output_type": "stream",
     "text": [
      " se\n"
     ]
    },
    {
     "name": "stdout",
     "output_type": "stream",
     "text": [
      "\n",
      "s9 on t -> "
     ]
    },
    {
     "name": "stdin",
     "output_type": "stream",
     "text": [
      " se\n"
     ]
    },
    {
     "name": "stdout",
     "output_type": "stream",
     "text": [
      "\n",
      "s9 on h -> "
     ]
    },
    {
     "name": "stdin",
     "output_type": "stream",
     "text": [
      " se\n"
     ]
    },
    {
     "name": "stdout",
     "output_type": "stream",
     "text": [
      "\n",
      "s9 on e -> "
     ]
    },
    {
     "name": "stdin",
     "output_type": "stream",
     "text": [
      " se\n"
     ]
    },
    {
     "name": "stdout",
     "output_type": "stream",
     "text": [
      "\n",
      "s9 on r -> "
     ]
    },
    {
     "name": "stdin",
     "output_type": "stream",
     "text": [
      " se\n"
     ]
    },
    {
     "name": "stdout",
     "output_type": "stream",
     "text": [
      "\n",
      "se on t -> "
     ]
    },
    {
     "name": "stdin",
     "output_type": "stream",
     "text": [
      " se\n"
     ]
    },
    {
     "name": "stdout",
     "output_type": "stream",
     "text": [
      "\n",
      "se on h -> "
     ]
    },
    {
     "name": "stdin",
     "output_type": "stream",
     "text": [
      " se\n"
     ]
    },
    {
     "name": "stdout",
     "output_type": "stream",
     "text": [
      "\n",
      "se on e -> "
     ]
    },
    {
     "name": "stdin",
     "output_type": "stream",
     "text": [
      " se\n"
     ]
    },
    {
     "name": "stdout",
     "output_type": "stream",
     "text": [
      "\n",
      "se on r -> "
     ]
    },
    {
     "name": "stdin",
     "output_type": "stream",
     "text": [
      " se\n"
     ]
    }
   ],
   "source": [
    "## INPUT\n",
    "\n",
    "print('Enter the state values:')\n",
    "states = input().split()\n",
    "print('Enter the alphabets/numbers:')\n",
    "inputs = input().split()\n",
    "initial_state = input(\"\\nEnter initial state: \")\n",
    "accept = input(\"\\nEnter final state(s):  \").split()\n",
    "\n",
    "inputData = {}\n",
    "for ele in states:\n",
    "    inputData[ele] = []\n",
    "\n",
    "print(\"\\nEnter transitions:\\n\")\n",
    "for ele in states:\n",
    "    for i in inputs:\n",
    "        print(\"\\n{0} on {1} -> \".format(ele, i), end='')\n",
    "\n",
    "        flag = True\n",
    "        while flag:\n",
    "            b = input()\n",
    "            if b in states:\n",
    "                inputData[ele].append(b)\n",
    "                flag = False\n",
    "            else:\n",
    "                print(\"Enter valid state:\")\n"
   ]
  },
  {
   "cell_type": "code",
   "execution_count": 10,
   "id": "426d5af2-e527-48f5-94b0-d655acf10486",
   "metadata": {
    "tags": []
   },
   "outputs": [
    {
     "name": "stdout",
     "output_type": "stream",
     "text": [
      "{'s0': ['s1', 's6', 'se', 'se'], 's1': ['se', 's2', 'se', 'se'], 's2': ['se', 'se', 's3', 'se'], 's3': ['se', 'se', 'se', 's4'], 's4': ['se', 'se', 's5', 'se'], 's5': ['se', 'se', 'se', 'se'], 's6': ['se', 'se', 's7', 'se'], 's7': ['se', 'se', 'se', 's8'], 's8': ['se', 'se', 's9', 'se'], 's9': ['se', 'se', 'se', 'se'], 'se': ['se', 'se', 'se', 'se']}\n"
     ]
    }
   ],
   "source": [
    "print(inputData)"
   ]
  },
  {
   "cell_type": "code",
   "execution_count": 11,
   "id": "97a1f29c-04e6-4972-b2b6-5e7ff1131af1",
   "metadata": {
    "tags": []
   },
   "outputs": [
    {
     "data": {
      "text/plain": [
       "0"
      ]
     },
     "execution_count": 11,
     "metadata": {},
     "output_type": "execute_result"
    }
   ],
   "source": [
    "# drawing the original dfa\n",
    "G = pgv.AGraph(directed=True, rankdir='LR')\n",
    "G.add_node('qi', shape='point')\n",
    "G.add_node(initial_state, color='blue')\n",
    "G.add_edge('qi', initial_state)\n",
    "[G.add_node(fs, shape='doublecircle', color='green:green') for fs in accept]\n",
    "for tab in sorted(inputData):\n",
    "    for i in range(len(inputs)):\n",
    "        # Gets the old label of the edge and appends it with the new input\n",
    "        label = G.get_edge(tab, inputData[tab][i]).attr['label'] + ',' + inputs[i] if G.has_edge(tab,inputData[tab][i]) and 'label' in G.get_edge(\n",
    "            tab, inputData[tab][i]).attr else inputs[i]\n",
    "        G.add_edge(tab, inputData[tab][i], label=label)\n",
    "\n",
    "G.write('inputDFA.dot')\n",
    "G.layout()\n",
    "G.draw('inputDFA.png', prog='dot')\n",
    "os.system('start inputDFA.png')"
   ]
  },
  {
   "cell_type": "code",
   "execution_count": 12,
   "id": "239b6ff6-afae-46c9-a2a1-8e237d5583dd",
   "metadata": {
    "tags": []
   },
   "outputs": [
    {
     "name": "stdout",
     "output_type": "stream",
     "text": [
      "Initial partitions:\n",
      "\n",
      "0 Equivalence \n",
      " [['s0', 's1', 's2', 's3', 's4', 's6', 's7', 's8', 'se'], ['s5', 's9']]\n",
      "1 Equivalence \n",
      " [['s0', 's1', 's2', 's3', 's6', 's7', 'se'], ['s4', 's8'], ['s5', 's9']]\n",
      "2 Equivalence \n",
      " [['s0', 's1', 's2', 's6', 'se'], ['s4', 's8'], ['s3', 's7'], ['s5', 's9']]\n",
      "3 Equivalence \n",
      " [['s0', 's1', 'se'], ['s4', 's8'], ['s3', 's7'], ['s2', 's6'], ['s5', 's9']]\n",
      "4 Equivalence \n",
      " [['s0', 's1'], ['s4', 's8'], ['s3', 's7'], ['s2', 's6'], ['se'], ['s5', 's9']]\n",
      "5 Equivalence \n",
      " [['s0'], ['s4', 's8'], ['s3', 's7'], ['s2', 's6'], ['se'], ['s1'], ['s5', 's9']]\n",
      "6 Equivalence \n",
      " [['s0'], ['s4', 's8'], ['s3', 's7'], ['s2', 's6'], ['se'], ['s1'], ['s5', 's9']]\n",
      "Minimized DFA Transitions: \n",
      "\n",
      "('s0',) -> {'t': ('s1',), 'h': ('s2', 's6'), 'e': ('se',), 'r': ('se',)}\n",
      "('s4', 's8') -> {'t': ('se',), 'h': ('se',), 'e': ('s5', 's9'), 'r': ('se',)}\n",
      "('s3', 's7') -> {'t': ('se',), 'h': ('se',), 'e': ('se',), 'r': ('s4', 's8')}\n",
      "('s2', 's6') -> {'t': ('se',), 'h': ('se',), 'e': ('s3', 's7'), 'r': ('se',)}\n",
      "('se',) -> {'t': ('se',), 'h': ('se',), 'e': ('se',), 'r': ('se',)}\n",
      "('s1',) -> {'t': ('se',), 'h': ('s2', 's6'), 'e': ('se',), 'r': ('se',)}\n",
      "('s5', 's9') -> {'t': ('se',), 'h': ('se',), 'e': ('se',), 'r': ('se',)}\n",
      "{('s0',): {'t': ('s1',), 'h': ('s2', 's6'), 'e': ('se',), 'r': ('se',)}, ('s4', 's8'): {'t': ('se',), 'h': ('se',), 'e': ('s5', 's9'), 'r': ('se',)}, ('s3', 's7'): {'t': ('se',), 'h': ('se',), 'e': ('se',), 'r': ('s4', 's8')}, ('s2', 's6'): {'t': ('se',), 'h': ('se',), 'e': ('s3', 's7'), 'r': ('se',)}, ('se',): {'t': ('se',), 'h': ('se',), 'e': ('se',), 'r': ('se',)}, ('s1',): {'t': ('se',), 'h': ('s2', 's6'), 'e': ('se',), 'r': ('se',)}, ('s5', 's9'): {'t': ('se',), 'h': ('se',), 'e': ('se',), 'r': ('se',)}}\n"
     ]
    }
   ],
   "source": [
    "#Test 1\n",
    "#accept = ['s3','s5']\n",
    "#inputs = ['f', 'i','e']\n",
    "#inputData = {'s0':['s1','se','se'],'s1':['se','s4','s2'],'s2':['se','se','s3'],'s3':['se','se','se'],'s4':['se','se','s5'],'s5':['se','se','se'],'se':['se','se','se']}\n",
    "#equivalence = [['s0','s1','s2','s4','se'],['s3','s5']]\n",
    "\n",
    "#Test2\n",
    "# accept = ['q2']\n",
    "# inputs = [0,1]\n",
    "# states = ['q0', 'q1', 'q2', 'q3', 'q4', 'q5', 'q6', 'q7']\n",
    "# inputData = {'q0':['q1','q5'],'q1':['q6','q2'],'q2':['q0','q2'],'q3':['q2','q6'],'q4':['q7','q5'],'q5':['q2','q6'],'q6':['q6','q4'],'q7':['q6','q2']}\n",
    "# equivalence = [['q0','q4','q6'],['q1','q7'],['q3','q5'],['q2']]\n",
    "#tempEq = [['q0','q4','q6'],['q1','q7'],['q3','q5'],['q2']]\n",
    "\n",
    "# pureStates has a list of states without accepting states\n",
    "pureStates = [state for state in states if state not in accept]\n",
    "\n",
    "# generate the first equivalence level, ex: [['s0','s1','s2','s4','se'],['s3','s5']]\n",
    "equivalence = [pureStates,accept]\n",
    "\n",
    "tempEq = copy.deepcopy(equivalence)\n",
    "\n",
    "print(\"Initial partitions:\\n\")\n",
    "print(f\"0 Equivalence \\n {equivalence}\")\n",
    "continueRun = 1\n",
    "index=1\n",
    "while continueRun == 1:\n",
    "    # continueRun is set to 0 and in any change it will be to 1 again\n",
    "    # that means we will have to recheck if we reached final equivalence level\n",
    "    continueRun = 0\n",
    "    \n",
    "    # loops on each state in the first partition in Equivalence\n",
    "    for i in range(1,len(equivalence[0])):\n",
    "        #loops on the first state in each parition in tempEquivalence\n",
    "        for j in range(len(tempEq)-1):\n",
    "            # if sameSet reached to be = the number of input alphabets, then both states are\n",
    "            # either in the same list or state2 will be moved to another list ALREADY ADDED before\n",
    "            # else if sameSet didnt = the number of input alphabets, then state2 will be added in a whole new list by itself\n",
    "            sameSet = 0\n",
    "            state1 = tempEq[j][0]\n",
    "            state2 = equivalence[0][i]\n",
    "            \n",
    "            #loops on every input\n",
    "            for m in range(len(inputs)):\n",
    "                # value1 and value2 are the transition value reach by each state at each input ex: s0 -> on f: s1, s1 is the value\n",
    "                # this is similar to value1 = inputData['s0']['f]\n",
    "                value1 = inputData[state1][m]\n",
    "                value2 = inputData[state2][m]\n",
    "\n",
    "                #if both values = each other, add the score sameSet by 1\n",
    "                if value1 == value2:\n",
    "                    sameSet = sameSet + 1\n",
    "                    continue\n",
    "                else:\n",
    "                    # else check if value1 and value2 (or states represented) are in the same list in equivalence parition\n",
    "                    # we loop on the number of equivalence lists as we can have equivalence level\n",
    "                    # as follows: [['q0','q4','q6'],['q1','q7'],['q3','q5'],['q2']] so it has to check on each partition\n",
    "                    for n in range(len(equivalence)):\n",
    "                        if value1 in equivalence[n] and value2 in equivalence[n]:\n",
    "                            sameSet = sameSet + 1\n",
    "                            break;\n",
    "            # if we reached sameSet score of = the number of inputs that mean for each input, the states are in the same list\n",
    "            # or state2 just need to be moved (NOT Removed and added separatly in a list)\n",
    "            # [['s0','s1','s4','se'],['s3','s5']] -> [['s0','s1','se'],['s2','s4'],['s3','s5']]\n",
    "            if sameSet == len(inputs):\n",
    "                # dont change any if we are standing on the same state\n",
    "                if(j != 0):\n",
    "                    tempEq[0].remove(state2)\n",
    "                    tempEq[j].append(state2)\n",
    "                    # continue run is set to 1 as there is a change happened\n",
    "                    continueRun = 1\n",
    "                break\n",
    "        # if sameSet score didnt get = inputs length, for example (f i e = 3 inputs), that means both states are not\n",
    "        # in the same parrition in the equivalence so we remove state2 from our current parition and add it to a separate list\n",
    "        # [['s0','s1','s2','s4','se'],['s3','s5']] -> [['s0','s1','s4','se'],['s2'],['s3','s5']]\n",
    "        if sameSet != len(inputs):\n",
    "            tempEq[0].remove(state2)\n",
    "            tempEq.insert(len(tempEq)-1,[state2])\n",
    "            # continue run is set to 1 as there is a change happened\n",
    "            continueRun = 1\n",
    "    #print(tempEq)\n",
    "    equivalence = copy.deepcopy(tempEq)\n",
    "    print(f\"{index} Equivalence \\n {equivalence}\")\n",
    "    index+=1\n",
    "    \n",
    "# create a mapping between the old states and the new equivalence classes\n",
    "#to know the new transitions\n",
    "\n",
    "# Create a dictionary to map each state to its corresponding equivalence partition index\n",
    "# example:state_mapping={ 's0': 0, 's1': 0, 's2': 0, 's4': 0, 'se': 0, 's3': 1 and so on}\n",
    "state_mapping = {state: idx for idx, states in enumerate(equivalence) for state in states}\n",
    "\n",
    "# create an empty dictionary to store the transitions of the minimized DFA \n",
    "minimized_input_data = {} \n",
    "\n",
    "# Iterate over each new state in the equivalence partitions\n",
    "for new_state in equivalence:\n",
    "    #Get the representative old state (first state in each equivalence partition, we only get the first state because\n",
    "    #  it is equivalent to all the other states in the same partiton)\n",
    "    old_state = new_state[0]  \n",
    "    #Iterate over input symbols (in our example: f,i,e)\n",
    "    for input_symbol in inputs: \n",
    "        # here we get the old next state based on the input symbol \n",
    "        old_next_state = inputData[old_state][inputs.index(input_symbol)] \n",
    "        #and map it to the corresponding NEW equivalence partition\n",
    "        new_next_state = state_mapping[old_next_state]\n",
    "        # finally we fill the empty dictionary with the new transitions\n",
    "        minimized_input_data.setdefault(tuple(new_state), {})[input_symbol] = tuple(equivalence[new_next_state])\n",
    "\n",
    "# Print the transitions in the minimized DFA\n",
    "print(\"Minimized DFA Transitions: \\n\")\n",
    "for state, transitions in minimized_input_data.items():\n",
    "    print(f\"{state} -> {transitions}\")\n",
    "print(minimized_input_data)"
   ]
  },
  {
   "cell_type": "code",
   "execution_count": 13,
   "id": "280f9dd7-4203-4d34-af58-2d630e656f16",
   "metadata": {
    "tags": []
   },
   "outputs": [],
   "source": [
    "#for minimized DFA graph inputs\n",
    "# finding initial state\n",
    "for i in range(len(equivalence)):\n",
    "    state = ','.join(equivalence[i])\n",
    "    if initial_state in state:\n",
    "        initial_state = state\n",
    "        break\n",
    "\n",
    "# finding new states\n",
    "final_states = []\n",
    "for i in range(len(equivalence)):\n",
    "    state = ','.join(equivalence[i])\n",
    "    final_states.append(state)\n",
    "\n",
    "# finding accepting states\n",
    "accepting_states = []\n",
    "for i in range(len(equivalence)):\n",
    "    state = ','.join(equivalence[i])\n",
    "    for accepting_state in accept:\n",
    "        if accepting_state in state and state not in accepting_states:\n",
    "            accepting_states.append(state)\n",
    "# finds new transition dictionary\n",
    "final_transition = {}\n",
    "for i in range(len(equivalence)):\n",
    "    state = ','.join(equivalence[i])\n",
    "    old_state = equivalence[i][0]\n",
    "    transition = inputData[old_state]\n",
    "    for m in range(len(transition)):\n",
    "        for n in range(len(final_states)):\n",
    "            if transition[m] in final_states[n]:\n",
    "                transition[m] = final_states[n]\n",
    "    final_transition[state] = transition\n"
   ]
  },
  {
   "cell_type": "code",
   "execution_count": 14,
   "id": "30ff5d2b-6e93-4079-9437-b7f66001792f",
   "metadata": {
    "tags": []
   },
   "outputs": [
    {
     "name": "stdout",
     "output_type": "stream",
     "text": [
      "{'s0': ['s1', 's2,s6', 'se', 'se'], 's4,s8': ['se', 'se', 's5,s9', 'se'], 's3,s7': ['se', 'se', 'se', 's4,s8'], 's2,s6': ['se', 'se', 's3,s7', 'se'], 'se': ['se', 'se', 'se', 'se'], 's1': ['se', 's2,s6', 'se', 'se'], 's5,s9': ['se', 'se', 'se', 'se']}\n"
     ]
    },
    {
     "data": {
      "text/plain": [
       "0"
      ]
     },
     "execution_count": 14,
     "metadata": {},
     "output_type": "execute_result"
    }
   ],
   "source": [
    "# Print the minimized DFA\n",
    "\n",
    "          \n",
    "print(final_transition)\n",
    "G = pgv.AGraph(directed=True, rankdir='LR')\n",
    "G.add_node('qi', shape='point')\n",
    "G.add_node(initial_state, color='red')\n",
    "G.add_edge('qi', initial_state)\n",
    "[G.add_node(fs, shape='doublecircle', color='green:green') for fs in accepting_states]\n",
    "for tab in sorted(final_transition):\n",
    "    for i in range(len(inputs)):\n",
    "        label =  G.get_edge(tab,final_transition[tab][i]).attr['label'] + ',' + inputs[i] if G.has_edge(tab,final_transition[tab][i]) else inputs[i]\n",
    "        G.add_edge(tab, final_transition[tab][i], label=label)\n",
    "\n",
    "\n",
    "G.write('minimized_DFA.dot')\n",
    "G.layout()\n",
    "G.draw('minimized_DFA.png', format='png', prog='dot')\n",
    "os.system('start minimized_DFA.png')"
   ]
  },
  {
   "cell_type": "code",
   "execution_count": null,
   "id": "913b121f-8b5a-4a48-975e-3aea1c91aae5",
   "metadata": {},
   "outputs": [],
   "source": []
  }
 ],
 "metadata": {
  "kernelspec": {
   "display_name": "Python 3 (ipykernel)",
   "language": "python",
   "name": "python3"
  },
  "language_info": {
   "codemirror_mode": {
    "name": "ipython",
    "version": 3
   },
   "file_extension": ".py",
   "mimetype": "text/x-python",
   "name": "python",
   "nbconvert_exporter": "python",
   "pygments_lexer": "ipython3",
   "version": "3.11.5"
  }
 },
 "nbformat": 4,
 "nbformat_minor": 5
}
